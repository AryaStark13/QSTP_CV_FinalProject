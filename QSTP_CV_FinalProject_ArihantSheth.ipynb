{
  "nbformat": 4,
  "nbformat_minor": 0,
  "metadata": {
    "colab": {
      "name": "QSTP_CV_FinalProject.ipynb",
      "provenance": [],
      "collapsed_sections": []
    },
    "kernelspec": {
      "name": "python3",
      "display_name": "Python 3"
    },
    "language_info": {
      "name": "python"
    },
    "accelerator": "TPU",
    "widgets": {
      "application/vnd.jupyter.widget-state+json": {
        "deb501b33e2241f2b2996b559488d573": {
          "model_module": "@jupyter-widgets/controls",
          "model_name": "HBoxModel",
          "model_module_version": "1.5.0",
          "state": {
            "_view_name": "HBoxView",
            "_dom_classes": [],
            "_model_name": "HBoxModel",
            "_view_module": "@jupyter-widgets/controls",
            "_model_module_version": "1.5.0",
            "_view_count": null,
            "_view_module_version": "1.5.0",
            "box_style": "",
            "layout": "IPY_MODEL_976d85b73afb4f349e8b0c1df92b8692",
            "_model_module": "@jupyter-widgets/controls",
            "children": [
              "IPY_MODEL_78d26aec78eb446daee0f4cf9882643d",
              "IPY_MODEL_7c65dabe400742d58b7b68434fe1ca7e",
              "IPY_MODEL_2e9bfd55efb1435b888a44017f560bcc"
            ]
          }
        },
        "976d85b73afb4f349e8b0c1df92b8692": {
          "model_module": "@jupyter-widgets/base",
          "model_name": "LayoutModel",
          "model_module_version": "1.2.0",
          "state": {
            "_view_name": "LayoutView",
            "grid_template_rows": null,
            "right": null,
            "justify_content": null,
            "_view_module": "@jupyter-widgets/base",
            "overflow": null,
            "_model_module_version": "1.2.0",
            "_view_count": null,
            "flex_flow": null,
            "width": null,
            "min_width": null,
            "border": null,
            "align_items": null,
            "bottom": null,
            "_model_module": "@jupyter-widgets/base",
            "top": null,
            "grid_column": null,
            "overflow_y": null,
            "overflow_x": null,
            "grid_auto_flow": null,
            "grid_area": null,
            "grid_template_columns": null,
            "flex": null,
            "_model_name": "LayoutModel",
            "justify_items": null,
            "grid_row": null,
            "max_height": null,
            "align_content": null,
            "visibility": null,
            "align_self": null,
            "height": null,
            "min_height": null,
            "padding": null,
            "grid_auto_rows": null,
            "grid_gap": null,
            "max_width": null,
            "order": null,
            "_view_module_version": "1.2.0",
            "grid_template_areas": null,
            "object_position": null,
            "object_fit": null,
            "grid_auto_columns": null,
            "margin": null,
            "display": null,
            "left": null
          }
        },
        "78d26aec78eb446daee0f4cf9882643d": {
          "model_module": "@jupyter-widgets/controls",
          "model_name": "HTMLModel",
          "model_module_version": "1.5.0",
          "state": {
            "_view_name": "HTMLView",
            "style": "IPY_MODEL_9e13f430c6934a0ab814a334ec2d093a",
            "_dom_classes": [],
            "description": "",
            "_model_name": "HTMLModel",
            "placeholder": "​",
            "_view_module": "@jupyter-widgets/controls",
            "_model_module_version": "1.5.0",
            "value": "",
            "_view_count": null,
            "_view_module_version": "1.5.0",
            "description_tooltip": null,
            "_model_module": "@jupyter-widgets/controls",
            "layout": "IPY_MODEL_d5745a1007ac4927bb458a7aa0ee77d3"
          }
        },
        "7c65dabe400742d58b7b68434fe1ca7e": {
          "model_module": "@jupyter-widgets/controls",
          "model_name": "FloatProgressModel",
          "model_module_version": "1.5.0",
          "state": {
            "_view_name": "ProgressView",
            "style": "IPY_MODEL_4d872303b5794834b5189b12c154f60f",
            "_dom_classes": [],
            "description": "",
            "_model_name": "FloatProgressModel",
            "bar_style": "success",
            "max": 2640397119,
            "_view_module": "@jupyter-widgets/controls",
            "_model_module_version": "1.5.0",
            "value": 2640397119,
            "_view_count": null,
            "_view_module_version": "1.5.0",
            "orientation": "horizontal",
            "min": 0,
            "description_tooltip": null,
            "_model_module": "@jupyter-widgets/controls",
            "layout": "IPY_MODEL_9255839922784151910141ed184413a4"
          }
        },
        "2e9bfd55efb1435b888a44017f560bcc": {
          "model_module": "@jupyter-widgets/controls",
          "model_name": "HTMLModel",
          "model_module_version": "1.5.0",
          "state": {
            "_view_name": "HTMLView",
            "style": "IPY_MODEL_c9255569c65542b498b03118ea674bb0",
            "_dom_classes": [],
            "description": "",
            "_model_name": "HTMLModel",
            "placeholder": "​",
            "_view_module": "@jupyter-widgets/controls",
            "_model_module_version": "1.5.0",
            "value": " 2640397312/? [01:33&lt;00:00, 59216819.75it/s]",
            "_view_count": null,
            "_view_module_version": "1.5.0",
            "description_tooltip": null,
            "_model_module": "@jupyter-widgets/controls",
            "layout": "IPY_MODEL_c48b6e16fb9a49dab142b57478fb3903"
          }
        },
        "9e13f430c6934a0ab814a334ec2d093a": {
          "model_module": "@jupyter-widgets/controls",
          "model_name": "DescriptionStyleModel",
          "model_module_version": "1.5.0",
          "state": {
            "_view_name": "StyleView",
            "_model_name": "DescriptionStyleModel",
            "description_width": "",
            "_view_module": "@jupyter-widgets/base",
            "_model_module_version": "1.5.0",
            "_view_count": null,
            "_view_module_version": "1.2.0",
            "_model_module": "@jupyter-widgets/controls"
          }
        },
        "d5745a1007ac4927bb458a7aa0ee77d3": {
          "model_module": "@jupyter-widgets/base",
          "model_name": "LayoutModel",
          "model_module_version": "1.2.0",
          "state": {
            "_view_name": "LayoutView",
            "grid_template_rows": null,
            "right": null,
            "justify_content": null,
            "_view_module": "@jupyter-widgets/base",
            "overflow": null,
            "_model_module_version": "1.2.0",
            "_view_count": null,
            "flex_flow": null,
            "width": null,
            "min_width": null,
            "border": null,
            "align_items": null,
            "bottom": null,
            "_model_module": "@jupyter-widgets/base",
            "top": null,
            "grid_column": null,
            "overflow_y": null,
            "overflow_x": null,
            "grid_auto_flow": null,
            "grid_area": null,
            "grid_template_columns": null,
            "flex": null,
            "_model_name": "LayoutModel",
            "justify_items": null,
            "grid_row": null,
            "max_height": null,
            "align_content": null,
            "visibility": null,
            "align_self": null,
            "height": null,
            "min_height": null,
            "padding": null,
            "grid_auto_rows": null,
            "grid_gap": null,
            "max_width": null,
            "order": null,
            "_view_module_version": "1.2.0",
            "grid_template_areas": null,
            "object_position": null,
            "object_fit": null,
            "grid_auto_columns": null,
            "margin": null,
            "display": null,
            "left": null
          }
        },
        "4d872303b5794834b5189b12c154f60f": {
          "model_module": "@jupyter-widgets/controls",
          "model_name": "ProgressStyleModel",
          "model_module_version": "1.5.0",
          "state": {
            "_view_name": "StyleView",
            "_model_name": "ProgressStyleModel",
            "description_width": "",
            "_view_module": "@jupyter-widgets/base",
            "_model_module_version": "1.5.0",
            "_view_count": null,
            "_view_module_version": "1.2.0",
            "bar_color": null,
            "_model_module": "@jupyter-widgets/controls"
          }
        },
        "9255839922784151910141ed184413a4": {
          "model_module": "@jupyter-widgets/base",
          "model_name": "LayoutModel",
          "model_module_version": "1.2.0",
          "state": {
            "_view_name": "LayoutView",
            "grid_template_rows": null,
            "right": null,
            "justify_content": null,
            "_view_module": "@jupyter-widgets/base",
            "overflow": null,
            "_model_module_version": "1.2.0",
            "_view_count": null,
            "flex_flow": null,
            "width": null,
            "min_width": null,
            "border": null,
            "align_items": null,
            "bottom": null,
            "_model_module": "@jupyter-widgets/base",
            "top": null,
            "grid_column": null,
            "overflow_y": null,
            "overflow_x": null,
            "grid_auto_flow": null,
            "grid_area": null,
            "grid_template_columns": null,
            "flex": null,
            "_model_name": "LayoutModel",
            "justify_items": null,
            "grid_row": null,
            "max_height": null,
            "align_content": null,
            "visibility": null,
            "align_self": null,
            "height": null,
            "min_height": null,
            "padding": null,
            "grid_auto_rows": null,
            "grid_gap": null,
            "max_width": null,
            "order": null,
            "_view_module_version": "1.2.0",
            "grid_template_areas": null,
            "object_position": null,
            "object_fit": null,
            "grid_auto_columns": null,
            "margin": null,
            "display": null,
            "left": null
          }
        },
        "c9255569c65542b498b03118ea674bb0": {
          "model_module": "@jupyter-widgets/controls",
          "model_name": "DescriptionStyleModel",
          "model_module_version": "1.5.0",
          "state": {
            "_view_name": "StyleView",
            "_model_name": "DescriptionStyleModel",
            "description_width": "",
            "_view_module": "@jupyter-widgets/base",
            "_model_module_version": "1.5.0",
            "_view_count": null,
            "_view_module_version": "1.2.0",
            "_model_module": "@jupyter-widgets/controls"
          }
        },
        "c48b6e16fb9a49dab142b57478fb3903": {
          "model_module": "@jupyter-widgets/base",
          "model_name": "LayoutModel",
          "model_module_version": "1.2.0",
          "state": {
            "_view_name": "LayoutView",
            "grid_template_rows": null,
            "right": null,
            "justify_content": null,
            "_view_module": "@jupyter-widgets/base",
            "overflow": null,
            "_model_module_version": "1.2.0",
            "_view_count": null,
            "flex_flow": null,
            "width": null,
            "min_width": null,
            "border": null,
            "align_items": null,
            "bottom": null,
            "_model_module": "@jupyter-widgets/base",
            "top": null,
            "grid_column": null,
            "overflow_y": null,
            "overflow_x": null,
            "grid_auto_flow": null,
            "grid_area": null,
            "grid_template_columns": null,
            "flex": null,
            "_model_name": "LayoutModel",
            "justify_items": null,
            "grid_row": null,
            "max_height": null,
            "align_content": null,
            "visibility": null,
            "align_self": null,
            "height": null,
            "min_height": null,
            "padding": null,
            "grid_auto_rows": null,
            "grid_gap": null,
            "max_width": null,
            "order": null,
            "_view_module_version": "1.2.0",
            "grid_template_areas": null,
            "object_position": null,
            "object_fit": null,
            "grid_auto_columns": null,
            "margin": null,
            "display": null,
            "left": null
          }
        }
      }
    }
  },
  "cells": [
    {
      "cell_type": "markdown",
      "metadata": {
        "id": "QYpoMqStrjFo"
      },
      "source": [
        "# **QSTP FINAL PROJECT - DEEP LEARNING**\n",
        "\n",
        "\n",
        "---\n",
        "\n",
        "\n",
        "## Topic: Computer Vision\n",
        "> ### Problem Statement: \n",
        ">> Train an image classification model of your choice (eg. CNNs such as ResNets) on the labeled part of the dataset in a supervised way and report results on the test set. Use transfer learning and make a comparison on the test accuracy by freezing the weights of a model pre-trained on Imagenet and fine-tuning the entire network. Use the STL-10 dataset.\n",
        "\n",
        "\n",
        "## **Project Overview:** \n",
        "> ### *Models chosen:* \n",
        ">> #### 1. Purely Supervised Learning: \n",
        ">>> A Convolutional Neural Network consisting of 2 Convolutions, 2 Max-pooling layers and 1 Fully Connected layer.\n",
        "\n",
        "**Accuracy obtained: 54.84%**\n",
        "\n",
        ">> #### 2. Using Transfer Learning:\n",
        ">>> A pre-trained model from imagenet (mobilenet_v2) was used by freezing its weights and fine-tuning it to achieve the desired result. \n",
        "\n",
        "**Accuracy obtained: 87.57%**\n",
        "\n",
        "︎ ︎︎ ︎︎ ︎︎ ︎︎ ︎︎ ︎︎ ︎︎ ︎︎ ︎︎ ︎︎ ︎︎ ︎︎ ︎︎ ︎︎ ︎︎ ︎︎ ︎︎ ︎︎ ︎︎ ︎︎ ︎︎ ︎︎ ︎︎ ︎︎ ︎︎ ︎︎ ︎︎ ︎︎ ︎︎ ︎︎ ︎︎ ︎︎ ︎︎ ︎︎ ︎︎ ︎︎ ︎︎ ︎︎ ︎︎ ︎︎ ︎︎ ︎︎ ︎︎ ︎︎ ︎︎ ︎︎ ︎︎ ︎︎ ︎︎ ︎︎ ︎︎ ︎︎ ︎︎ ︎︎ ︎︎ ︎︎ ︎︎ ︎︎ ︎︎ ︎︎ ︎︎ ︎︎ ︎︎ ︎︎ ︎︎ ︎︎ ︎︎ ︎︎ ︎︎ ︎︎ ︎︎ ︎︎ ︎︎ ︎︎ ︎︎ ︎︎ ︎︎ ︎︎ ︎︎ ︎︎ ︎︎ ︎︎ ︎︎ ︎︎ ︎︎ ︎︎ ︎︎ ︎︎ ︎︎ ︎︎ ︎︎ ︎︎ ︎︎ ︎︎ ︎︎ ︎︎ ︎︎ ︎︎ ︎︎ ︎︎ ︎\n",
        "> ### *Graphical Comparision:*\n",
        ">> #### 1. Comparing the Loss functions of the two models:\n",
        ">>> ![Loss comparision_QSTP CV Project.png](data:image/png;base64,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)\n",
        "\n",
        ">> #### 2. Comparing the accuracy of the two models: \n",
        ">>> ![Accuracy Comparision_QSTP CV Project.png](data:image/png;base64,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)\n"
      ]
    },
    {
      "cell_type": "markdown",
      "metadata": {
        "id": "Sj6ooGTtyF-S"
      },
      "source": [
        "## **1. Using Supervised Learning:**"
      ]
    },
    {
      "cell_type": "code",
      "metadata": {
        "id": "x2Km4ezerN1j",
        "colab": {
          "base_uri": "https://localhost:8080/",
          "height": 336,
          "referenced_widgets": [
            "deb501b33e2241f2b2996b559488d573",
            "976d85b73afb4f349e8b0c1df92b8692",
            "78d26aec78eb446daee0f4cf9882643d",
            "7c65dabe400742d58b7b68434fe1ca7e",
            "2e9bfd55efb1435b888a44017f560bcc",
            "9e13f430c6934a0ab814a334ec2d093a",
            "d5745a1007ac4927bb458a7aa0ee77d3",
            "4d872303b5794834b5189b12c154f60f",
            "9255839922784151910141ed184413a4",
            "c9255569c65542b498b03118ea674bb0",
            "c48b6e16fb9a49dab142b57478fb3903"
          ]
        },
        "outputId": "66257977-0e84-40dd-b41a-3a39caaf66da"
      },
      "source": [
        "# Pre-requisite imports\n",
        "import torch\n",
        "import torch.nn as nn\n",
        "from torch.autograd import Variable \n",
        "import torchvision.transforms as transforms\n",
        "import torchvision.datasets as dsets\n",
        "import torchvision\n",
        "import numpy as np\n",
        "\n",
        "\n",
        "# Importing train and test dataset\n",
        "train_data = dsets.STL10('./data', split='train', transform=transforms.ToTensor(), download=True)\n",
        "test_data = dsets.STL10('./data', split='test', transform=transforms.ToTensor(), download=True)\n",
        "\n",
        "# Defining number of epochs \n",
        "batch_size = 25\n",
        "n_iters = 2000\n",
        "num_epochs = int(n_iters/(len(train_data)/batch_size))\n",
        "\n",
        "# Making the train and test dataset iterable\n",
        "train_loader = torch.utils.data.DataLoader(dataset = train_data, batch_size = batch_size, shuffle = True)\n",
        "test_loader = torch.utils.data.DataLoader(dataset = test_data, batch_size = batch_size, shuffle = False)\n",
        "\n",
        "# Defining out CNN Model Class\n",
        "class CNNModel(nn.Module):\n",
        "  def __init__(self):\n",
        "    super(CNNModel, self).__init__()\n",
        "\n",
        "    #Convolution-1\n",
        "    self.cnn1 = nn.Conv2d(in_channels=3, out_channels=32, kernel_size=9, stride=1,padding=4)\n",
        "    self.relu1 = nn.ReLU()\n",
        "\n",
        "    #Max Pool-1\n",
        "    self.maxpool1 = nn.MaxPool2d(kernel_size=2)\n",
        "\n",
        "    #Convolution-2\n",
        "    self.cnn2 = nn.Conv2d(in_channels=32, out_channels=64, kernel_size=9, stride=1,padding=4)\n",
        "    self.relu2 = nn.ReLU()\n",
        "\n",
        "    #Max Pool-2\n",
        "    self.maxpool2 = nn.MaxPool2d(kernel_size=2)\n",
        "\n",
        "    #Fully Connected\n",
        "    self.fc1 = nn.Linear(64*24*24, 10)\n",
        "\n",
        "  def forward(self, x):\n",
        "    out = self.cnn1(x)\n",
        "    out = self.relu1(out)\n",
        "    out = self.maxpool1(out)\n",
        "    out = self.cnn2(out)\n",
        "    out = self.relu2(out)\n",
        "    out = self.maxpool2(out)\n",
        "    out = out.view(out.size(0), -1) \n",
        "    out = self.fc1(out)\n",
        "\n",
        "    return out\n",
        "\n",
        "# Initialising Model Class\n",
        "model = CNNModel()\n",
        "\n",
        "# Initialising Loss Class\n",
        "criterion = nn.CrossEntropyLoss()\n",
        "\n",
        "learning_rate = 0.01\n",
        "\n",
        "# Initialising Optimiser Class\n",
        "optimiser = torch.optim.SGD(model.parameters(), lr=learning_rate)\n",
        "loss_values_SL = []\n",
        "accuracy_values_SL = []\n",
        "\n",
        "\n",
        "# Training the model and testing after every epoch \n",
        "for epoch in range(num_epochs):\n",
        "  for i, (images, labels) in enumerate(train_loader):\n",
        "    images = Variable(images)\n",
        "    labels = Variable(labels)\n",
        "    optimiser.zero_grad()\n",
        "    outputs = model(images)\n",
        "    loss = criterion(outputs, labels)\n",
        "    loss.backward()\n",
        "    optimiser.step()\n",
        "\n",
        "  correct = 0\n",
        "  total = 0\n",
        "  for images, labels in test_loader:\n",
        "    images = Variable(images)\n",
        "    labels = Variable(labels)\n",
        "    outputs = model(images)\n",
        "    predicted = torch.argmax(outputs.data, 1)\n",
        "    total += labels.size(0)\n",
        "    correct += (predicted==labels).sum()\n",
        "    \n",
        "  accuracy = 100 * correct/total\n",
        "  loss_values_SL.append(loss.data) # Adding loss values after every epoch in a list\n",
        "  accuracy_values_SL.append(accuracy) # Adding accuracy values after every epoch in a list \n",
        "  print('Epoch: {}, Loss: {}, Accuracy: {}'.format(epoch+1, loss.data, accuracy))"
      ],
      "execution_count": 1,
      "outputs": [
        {
          "output_type": "stream",
          "text": [
            "Downloading http://ai.stanford.edu/~acoates/stl10/stl10_binary.tar.gz to ./data/stl10_binary.tar.gz\n"
          ],
          "name": "stdout"
        },
        {
          "output_type": "display_data",
          "data": {
            "application/vnd.jupyter.widget-view+json": {
              "model_id": "deb501b33e2241f2b2996b559488d573",
              "version_minor": 0,
              "version_major": 2
            },
            "text/plain": [
              "  0%|          | 0/2640397119 [00:00<?, ?it/s]"
            ]
          },
          "metadata": {}
        },
        {
          "output_type": "stream",
          "text": [
            "Extracting ./data/stl10_binary.tar.gz to ./data\n",
            "Files already downloaded and verified\n"
          ],
          "name": "stdout"
        },
        {
          "output_type": "stream",
          "text": [
            "/usr/local/lib/python3.7/dist-packages/torch/nn/functional.py:718: UserWarning: Named tensors and all their associated APIs are an experimental feature and subject to change. Please do not use them for anything important until they are released as stable. (Triggered internally at  /pytorch/c10/core/TensorImpl.h:1156.)\n",
            "  return torch.max_pool2d(input, kernel_size, stride, padding, dilation, ceil_mode)\n"
          ],
          "name": "stderr"
        },
        {
          "output_type": "stream",
          "text": [
            "Epoch: 1, Loss: 1.9371408224105835, Accuracy: 33.76250076293945\n",
            "Epoch: 2, Loss: 1.6436114311218262, Accuracy: 39.087501525878906\n",
            "Epoch: 3, Loss: 1.516942024230957, Accuracy: 45.275001525878906\n",
            "Epoch: 4, Loss: 1.0389546155929565, Accuracy: 46.29999923706055\n",
            "Epoch: 5, Loss: 1.5335115194320679, Accuracy: 49.087501525878906\n",
            "Epoch: 6, Loss: 1.0622143745422363, Accuracy: 49.4375\n",
            "Epoch: 7, Loss: 1.0650238990783691, Accuracy: 52.849998474121094\n",
            "Epoch: 8, Loss: 0.8512665629386902, Accuracy: 48.974998474121094\n",
            "Epoch: 9, Loss: 1.032025933265686, Accuracy: 53.025001525878906\n",
            "Epoch: 10, Loss: 0.855602502822876, Accuracy: 54.837501525878906\n"
          ],
          "name": "stdout"
        }
      ]
    },
    {
      "cell_type": "markdown",
      "metadata": {
        "id": "b59hsSfXy2aA"
      },
      "source": [
        "## **2. Using Transfer Learning:**"
      ]
    },
    {
      "cell_type": "code",
      "metadata": {
        "id": "rNBN_KhHy7Ln",
        "colab": {
          "base_uri": "https://localhost:8080/"
        },
        "outputId": "293425d2-173d-455f-ead7-cc77cfbeb580"
      },
      "source": [
        "#%%\n",
        "try:\n",
        "    import torchbearer\n",
        "except:\n",
        "    !pip install -q torchbearer\n",
        "    import torchbearer\n",
        "    \n",
        "    # If problems arise, try\n",
        "    # pip install git+https://github.com/pytorchbearer/torchbearer\n",
        "    # import torchbearer\n",
        "    \n",
        "print(torchbearer.__version__)\n",
        "\n",
        "# Pre-requisite import \n",
        "from torchvision.models import mobilenet_v2\n",
        "\n",
        "# Defining pre-trained model: mobilenet_v2\n",
        "model = mobilenet_v2(pretrained=True, progress=False)\n",
        "\n",
        "# Downloading train and test datasets \n",
        "train_data = dsets.STL10('./data', split='train', transform=transforms.ToTensor(), download=True)\n",
        "test_data = dsets.STL10('./data', split='test', transform=transforms.ToTensor(), download=True)\n",
        "\n",
        "# Defining Number of epochs\n",
        "batch_size = 25\n",
        "n_iters = 2000\n",
        "num_epochs = int(n_iters/(len(train_data)/batch_size))\n",
        "\n",
        "# Making train and test dataset iterable\n",
        "train_loader = torch.utils.data.DataLoader(dataset = train_data, batch_size = batch_size, shuffle = True)\n",
        "test_loader = torch.utils.data.DataLoader(dataset = test_data, batch_size = batch_size, shuffle = False)\n",
        "\n",
        "# Copying the final layer form MobileNetV2 and replacing the linear layer with one to 10 channels\n",
        "model.classifier = nn.Sequential(\n",
        "            nn.Dropout(0.2),\n",
        "            nn.Linear(model.last_channel, 10),\n",
        "        )\n",
        "\n",
        "# Initialising Loss Class\n",
        "criterion = nn.CrossEntropyLoss()\n",
        "\n",
        "# Initialising Optimiser Class \n",
        "optimiser = torch.optim.SGD(model.parameters(), lr=0.005)\n",
        "loss_values_TL = []\n",
        "accuracy_values_TL = []\n",
        "\n",
        "\n",
        "# Training the model and testing after every epoch\n",
        "for epoch in range(num_epochs):\n",
        "  for i, (images, labels) in enumerate(train_loader):\n",
        "    images = Variable(images)\n",
        "    labels = Variable(labels)\n",
        "    optimiser.zero_grad()\n",
        "    outputs = model(images)\n",
        "    loss = criterion(outputs, labels)\n",
        "    loss.backward()\n",
        "    optimiser.step()\n",
        "  \n",
        "    \n",
        "  correct = 0\n",
        "  total = 0\n",
        "  for images, labels in test_loader:\n",
        "    images = Variable(images)\n",
        "    labels = Variable(labels)\n",
        "    outputs = model(images)\n",
        "    predicted = torch.argmax(outputs.data, 1)\n",
        "    total += labels.size(0)\n",
        "    correct += (predicted==labels).sum()\n",
        "    \n",
        "  accuracy = 100 * correct/total\n",
        "  loss_values_TL.append(loss.data) # Adding loss values after every epoch in a list\n",
        "  accuracy_values_TL.append(accuracy) # Adding accuracy values after every epoch in a list\n",
        "  print('Epoch: {}, Loss: {}, Accuracy: {}'.format(epoch+1, loss.data, accuracy)) "
      ],
      "execution_count": 2,
      "outputs": [
        {
          "output_type": "stream",
          "text": [
            "\u001b[?25l\r\u001b[K     |██▍                             | 10 kB 20.7 MB/s eta 0:00:01\r\u001b[K     |████▊                           | 20 kB 26.6 MB/s eta 0:00:01\r\u001b[K     |███████▏                        | 30 kB 14.1 MB/s eta 0:00:01\r\u001b[K     |█████████▌                      | 40 kB 10.4 MB/s eta 0:00:01\r\u001b[K     |███████████▉                    | 51 kB 5.5 MB/s eta 0:00:01\r\u001b[K     |██████████████▎                 | 61 kB 6.1 MB/s eta 0:00:01\r\u001b[K     |████████████████▋               | 71 kB 5.8 MB/s eta 0:00:01\r\u001b[K     |███████████████████             | 81 kB 6.5 MB/s eta 0:00:01\r\u001b[K     |█████████████████████▍          | 92 kB 4.9 MB/s eta 0:00:01\r\u001b[K     |███████████████████████▊        | 102 kB 5.3 MB/s eta 0:00:01\r\u001b[K     |██████████████████████████      | 112 kB 5.3 MB/s eta 0:00:01\r\u001b[K     |████████████████████████████▌   | 122 kB 5.3 MB/s eta 0:00:01\r\u001b[K     |██████████████████████████████▉ | 133 kB 5.3 MB/s eta 0:00:01\r\u001b[K     |████████████████████████████████| 138 kB 5.3 MB/s \n",
            "\u001b[?25h0.5.3\n"
          ],
          "name": "stdout"
        },
        {
          "output_type": "stream",
          "text": [
            "Downloading: \"https://download.pytorch.org/models/mobilenet_v2-b0353104.pth\" to /root/.cache/torch/hub/checkpoints/mobilenet_v2-b0353104.pth\n"
          ],
          "name": "stderr"
        },
        {
          "output_type": "stream",
          "text": [
            "Files already downloaded and verified\n",
            "Files already downloaded and verified\n",
            "Epoch: 1, Loss: 0.2978840172290802, Accuracy: 82.9124984741211\n",
            "Epoch: 2, Loss: 0.6203498840332031, Accuracy: 84.625\n",
            "Epoch: 3, Loss: 0.3907374143600464, Accuracy: 86.01249694824219\n",
            "Epoch: 4, Loss: 0.10592197626829147, Accuracy: 86.8375015258789\n",
            "Epoch: 5, Loss: 0.05021938681602478, Accuracy: 87.3375015258789\n",
            "Epoch: 6, Loss: 0.1203751340508461, Accuracy: 87.38749694824219\n",
            "Epoch: 7, Loss: 0.08296401053667068, Accuracy: 87.32499694824219\n",
            "Epoch: 8, Loss: 0.012754286639392376, Accuracy: 87.55000305175781\n",
            "Epoch: 9, Loss: 0.0044562057591974735, Accuracy: 87.13749694824219\n",
            "Epoch: 10, Loss: 0.012750502675771713, Accuracy: 87.57499694824219\n"
          ],
          "name": "stdout"
        }
      ]
    },
    {
      "cell_type": "markdown",
      "metadata": {
        "id": "zscyfMNw2taf"
      },
      "source": [
        "## **3. Plotting Loss Graph:**"
      ]
    },
    {
      "cell_type": "code",
      "metadata": {
        "id": "CEknJmyv20IQ",
        "colab": {
          "base_uri": "https://localhost:8080/",
          "height": 266
        },
        "outputId": "a41dad95-3b7b-49f9-8cfa-80f3cf375a73"
      },
      "source": [
        "import matplotlib.pyplot as plt\n",
        "epoch = range(0,10)\n",
        "plt.plot(epoch, loss_values_SL, label = \"Supervised Learning\")\n",
        "plt.plot(epoch, loss_values_TL, label = \"Transfer Learning\")\n",
        "plt.legend()\n",
        "plt.show()"
      ],
      "execution_count": 3,
      "outputs": [
        {
          "output_type": "display_data",
          "data": {
            "image/png": "[encoded data removed]",
            "text/plain": [
              "<Figure size 432x288 with 1 Axes>"
            ]
          },
          "metadata": {
            "needs_background": "light"
          }
        }
      ]
    },
    {
      "cell_type": "markdown",
      "metadata": {
        "id": "qHT0Bnke3yMV"
      },
      "source": [
        "## **4. Plotting Accuracy Graph:**"
      ]
    },
    {
      "cell_type": "code",
      "metadata": {
        "id": "ISNAcDUX31lG",
        "colab": {
          "base_uri": "https://localhost:8080/",
          "height": 268
        },
        "outputId": "b243a119-2764-479d-efc8-0ed6bcdceca2"
      },
      "source": [
        "epoch = range(0,10)\n",
        "plt.plot(epoch, accuracy_values_SL, label = \"Supervised Learning\")\n",
        "plt.plot(epoch, accuracy_values_TL, label = \"Transfer Learning\")\n",
        "plt.legend()\n",
        "plt.show()"
      ],
      "execution_count": 4,
      "outputs": [
        {
          "output_type": "display_data",
          "data": {
            "image/png": "[encoded data removed]",
            "text/plain": [
              "<Figure size 432x288 with 1 Axes>"
            ]
          },
          "metadata": {
            "needs_background": "light"
          }
        }
      ]
    }
  ]
}
